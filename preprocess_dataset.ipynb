{
 "cells": [
  {
   "cell_type": "code",
   "execution_count": 1,
   "metadata": {},
   "outputs": [],
   "source": [
    "import cv2\n",
    "import numpy as np\n",
    "import os\n",
    "\n",
    "# Constants\n",
    "NUM_FRAMES = 16  # Fixed number of frames per segment\n",
    "\n",
    "def extract_fixed_frame_segments(video_path, annotations, img_height, img_width):\n",
    "    cap = cv2.VideoCapture(video_path)\n",
    "    fps = cap.get(cv2.CAP_PROP_FPS)\n",
    "    video_name = os.path.basename(video_path)\n",
    "    \n",
    "    labeled_segments = []  # To store segments as (frames, label)\n",
    "\n",
    "    # Process each annotated segment\n",
    "    for segment in annotations.get(video_name, []):\n",
    "        start_frame = int(segment['start'] * fps)\n",
    "        end_frame = int(segment['end'] * fps)\n",
    "        num_segment_frames = end_frame - start_frame\n",
    "        \n",
    "        # Initialize frame list for this segment\n",
    "        frames = []\n",
    "        cap.set(cv2.CAP_PROP_POS_FRAMES, start_frame)\n",
    "        \n",
    "        # Extract frames from the segment\n",
    "        for _ in range(num_segment_frames):\n",
    "            ret, frame = cap.read()\n",
    "            if not ret:\n",
    "                break\n",
    "\n",
    "            # Resize and normalize frame\n",
    "            frame_resized = cv2.resize(frame, (img_width, img_height))\n",
    "            frame_resized = frame_resized / 255.0  # Normalize to [0, 1]\n",
    "            frames.append(frame_resized)\n",
    "\n",
    "        # Handle cases where the number of frames < NUM_FRAMES\n",
    "        if len(frames) > NUM_FRAMES:\n",
    "            # Uniformly sample 16 frames if more than 16 frames\n",
    "            step = len(frames) // NUM_FRAMES\n",
    "            frames = frames[::step][:NUM_FRAMES]\n",
    "        elif len(frames) < NUM_FRAMES:\n",
    "            # Pad with last frame if fewer than 16 frames\n",
    "            frames.extend([frames[-1]] * (NUM_FRAMES - len(frames)))\n",
    "        \n",
    "        # Store the labeled segment\n",
    "        label = 1 if segment else 0  # 1 for anomalous, 0 for normal\n",
    "        labeled_segments.append((np.array(frames), label))\n",
    "\n",
    "    cap.release()\n",
    "    return labeled_segments\n"
   ]
  }
 ],
 "metadata": {
  "kernelspec": {
   "display_name": "cv_env",
   "language": "python",
   "name": "python3"
  },
  "language_info": {
   "codemirror_mode": {
    "name": "ipython",
    "version": 3
   },
   "file_extension": ".py",
   "mimetype": "text/x-python",
   "name": "python",
   "nbconvert_exporter": "python",
   "pygments_lexer": "ipython3",
   "version": "3.12.5"
  }
 },
 "nbformat": 4,
 "nbformat_minor": 2
}
