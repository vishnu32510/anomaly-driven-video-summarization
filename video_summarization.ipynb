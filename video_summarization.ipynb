{
 "cells": [
  {
   "cell_type": "code",
   "execution_count": 1,
   "metadata": {},
   "outputs": [
    {
     "name": "stderr",
     "output_type": "stream",
     "text": [
      "WARNING:absl:Compiled the loaded model, but the compiled metrics have yet to be built. `model.compile_metrics` will be empty until you train or evaluate the model.\n"
     ]
    }
   ],
   "source": [
    "import tensorflow as tf\n",
    "\n",
    "# Load your trained model\n",
    "model_path = 'densenet.h5'  # Update with your model's path\n",
    "model = tf.keras.models.load_model(model_path)\n"
   ]
  },
  {
   "cell_type": "code",
   "execution_count": 2,
   "metadata": {},
   "outputs": [],
   "source": [
    "import cv2\n",
    "import os\n",
    "\n",
    "def extract_frames(video_path, output_dir):\n",
    "    print(\"Extracting Frames\")\n",
    "    print(video_path,output_dir)\n",
    "    # Create a directory for frames\n",
    "    if not os.path.exists(output_dir):\n",
    "        os.makedirs(output_dir)\n",
    "    \n",
    "    # Open the video\n",
    "    cap = cv2.VideoCapture(video_path)\n",
    "    count = 0\n",
    "    while cap.isOpened():\n",
    "        ret, frame = cap.read()\n",
    "        if not ret:\n",
    "            break\n",
    "        # Save frame as image\n",
    "        cv2.imwrite(os.path.join(output_dir, f'frame_{count:04d}.png'), frame)\n",
    "        count += 1\n",
    "    cap.release()\n",
    "    print(f\"Extracted {count} frames to {output_dir}\")\n",
    "\n",
    "# video_path = 'input_output/Input/car_a.mp4'  # Update with your video path\n",
    "# output_dir = 'input_output/Input/car_a/frames/'    # Update with your desired output directory\n",
    "# extract_frames(video_path, output_dir)\n"
   ]
  },
  {
   "cell_type": "code",
   "execution_count": 3,
   "metadata": {},
   "outputs": [],
   "source": [
    "import numpy as np\n",
    "from tensorflow.keras.preprocessing.image import load_img, img_to_array\n",
    "\n",
    "IMG_HEIGHT, IMG_WIDTH = 64,64\n",
    "\n",
    "def predict_frames(frames_dir):\n",
    "    print(\"Pridicting Frames\")\n",
    "    predictions = []\n",
    "    frame_files = sorted(os.listdir(frames_dir))\n",
    "    for frame_file in frame_files:\n",
    "        frame_path = os.path.join(frames_dir, frame_file)\n",
    "        img = load_img(frame_path, target_size=(IMG_HEIGHT, IMG_WIDTH))\n",
    "        img_array = img_to_array(img) / 255.0  # Normalize\n",
    "        img_array = np.expand_dims(img_array, axis=0)  # Add batch dimension\n",
    "        prediction = model.predict(img_array)\n",
    "        predictions.append(prediction)\n",
    "    print(\"Frames Predicted\")\n",
    "    return predictions\n",
    "\n",
    "# predictions = predict_frames(output_dir)\n"
   ]
  },
  {
   "cell_type": "code",
   "execution_count": 4,
   "metadata": {},
   "outputs": [],
   "source": [
    "from scipy.stats import entropy\n",
    "\n",
    "def score_frames(predictions):\n",
    "    print(\"Scoring Frames\")\n",
    "    scores = []\n",
    "    for i, pred in enumerate(predictions):\n",
    "        # Example scoring based on entropy of class probabilities\n",
    "        score = -np.sum(pred * np.log(pred + 1e-10))  # Entropy\n",
    "        # Additional scoring mechanisms can be added here\n",
    "        scores.append(score)\n",
    "    print(\"Frames Scored\")\n",
    "    return scores\n",
    "\n",
    "# scores = score_frames(predictions)\n",
    "# print(scores)\n"
   ]
  },
  {
   "cell_type": "code",
   "execution_count": 5,
   "metadata": {},
   "outputs": [],
   "source": [
    "def rank_shots(scores):\n",
    "    print(\"Ranking Frames\")\n",
    "    ranked_indices = np.argsort(scores)[::-1]  # Sort in descending order\n",
    "    print(\"Frames Ranked\")\n",
    "    return ranked_indices\n",
    "# ranked_indices = rank_shots(scores)\n",
    "# print(ranked_indices)\n"
   ]
  },
  {
   "cell_type": "code",
   "execution_count": 6,
   "metadata": {},
   "outputs": [],
   "source": [
    "def summarize_video(frames_dir, ranked_indices, output_video_path, num_keyframes=50, frame_rate=24):\n",
    "    print(\"Summarizing Frames\")\n",
    "    selected_frames = ranked_indices[:num_keyframes]\n",
    "    keyframe_paths = [os.path.join(frames_dir, f'frame_{index:04d}.png') for index in selected_frames][::-1]\n",
    "    \n",
    "    # Check the first frame to get dimensions\n",
    "    first_frame = cv2.imread(keyframe_paths[0])\n",
    "    if first_frame is None:\n",
    "        print(f\"Error loading image: {keyframe_paths[0]}\")\n",
    "        return\n",
    "\n",
    "    height, width, layers = first_frame.shape\n",
    "\n",
    "    # Initialize VideoWriter\n",
    "    fourcc = cv2.VideoWriter_fourcc(*'mp4v')  # Codec for .mp4 format\n",
    "    out = cv2.VideoWriter(output_video_path, fourcc, frame_rate, (width, height))\n",
    "    \n",
    "    for keyframe_path in keyframe_paths:\n",
    "        print(f\"Attempting to load: {keyframe_path}\")  # Debug output\n",
    "        img = cv2.imread(keyframe_path)\n",
    "        if img is None:\n",
    "            print(f\"Error loading image: {keyframe_path}\")\n",
    "        else:\n",
    "            # cv2.imshow(\"Keyframe\", img)\n",
    "            img_resized = cv2.resize(img, (width, height))\n",
    "            out.write(img_resized)\n",
    "            # cv2.waitKey(500)\n",
    "    out.release()\n",
    "    print(f\"Summarized video saved to {output_video_path}\")\n",
    "    # cv2.destroyAllWindows()\n",
    "\n",
    "# summarize_video(output_dir, ranked_indices, \"input_output/output/Arson002_x264/car_a.mp4\")\n"
   ]
  },
  {
   "cell_type": "code",
   "execution_count": 7,
   "metadata": {},
   "outputs": [],
   "source": [
    "def summarize_from_path(video_path, output_dir):\n",
    "    extract_frames(video_path, output_dir)"
   ]
  }
 ],
 "metadata": {
  "kernelspec": {
   "display_name": "cv_env",
   "language": "python",
   "name": "python3"
  },
  "language_info": {
   "codemirror_mode": {
    "name": "ipython",
    "version": 3
   },
   "file_extension": ".py",
   "mimetype": "text/x-python",
   "name": "python",
   "nbconvert_exporter": "python",
   "pygments_lexer": "ipython3",
   "version": "3.12.5"
  }
 },
 "nbformat": 4,
 "nbformat_minor": 2
}
