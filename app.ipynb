{
 "cells": [
  {
   "cell_type": "code",
   "execution_count": null,
   "metadata": {},
   "outputs": [],
   "source": [
    "import tensorflow as tf\n",
    "\n",
    "print(tf.config.list_physical_devices()) "
   ]
  },
  {
   "cell_type": "code",
   "execution_count": null,
   "metadata": {},
   "outputs": [],
   "source": [
    "import os\n",
    "import re\n",
    "import shutil\n",
    "\n",
    "# Define source directory (where class folders are located)\n",
    "source_dir = 'dataset/UCF_Crime/Train'  # Adjust path as needed\n",
    "target_dir = 'dataset/UCF_Crime_Organized/train'  # Adjust target path as needed\n",
    "\n",
    "# Function to organize frames by video and frame numbers for each class\n",
    "def organize_all_classes(source_dir, target_dir):\n",
    "    # Iterate over each class folder in the source directory\n",
    "    for class_name in range(0,1):\n",
    "        class_path = os.path.join(source_dir, 'NormalVideos')\n",
    "        \n",
    "        if os.path.isdir(class_path):\n",
    "            # Create a directory for each class in the target path\n",
    "            class_target_dir = os.path.join(target_dir, 'NormalVideos')\n",
    "            os.makedirs(class_target_dir, exist_ok=True)\n",
    "            \n",
    "            # Regex pattern to match filenames (e.g., Abuse001_x264_0.png)\n",
    "            pattern = rf'Normal_Videos(\\d+)_x264_(\\d+)\\.png'\n",
    "            \n",
    "            # Iterate over each file in the class folder\n",
    "            for filename in os.listdir(class_path):\n",
    "                match = re.match(pattern, filename)\n",
    "                if match:\n",
    "                    video_number = match.group(1)  # Extract video number\n",
    "                    frame_number = match.group(2)  # Extract frame number\n",
    "\n",
    "                    # Create a directory for each video within the class folder\n",
    "                    video_dir = os.path.join(class_target_dir, f\"video_{int(video_number)}\")\n",
    "                    os.makedirs(video_dir, exist_ok=True)\n",
    "\n",
    "                    # Move each frame to the corresponding video directory\n",
    "                    src_path = os.path.join(class_path, filename)\n",
    "                    dest_path = os.path.join(video_dir, f\"frame_{int(frame_number):04d}.png\")\n",
    "                    shutil.copy(src_path, dest_path)\n",
    "\n",
    "                    print(f\"Moved {filename} to {dest_path}\")\n",
    "\n",
    "# Run the function\n",
    "organize_all_classes(source_dir, target_dir)\n"
   ]
  }
 ],
 "metadata": {
  "kernelspec": {
   "display_name": "cv_env",
   "language": "python",
   "name": "python3"
  },
  "language_info": {
   "codemirror_mode": {
    "name": "ipython",
    "version": 3
   },
   "file_extension": ".py",
   "mimetype": "text/x-python",
   "name": "python",
   "nbconvert_exporter": "python",
   "pygments_lexer": "ipython3",
   "version": "3.12.5"
  }
 },
 "nbformat": 4,
 "nbformat_minor": 2
}
